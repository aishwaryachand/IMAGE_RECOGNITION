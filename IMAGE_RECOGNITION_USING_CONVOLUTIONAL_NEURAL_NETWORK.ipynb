{
  "nbformat": 4,
  "nbformat_minor": 0,
  "metadata": {
    "colab": {
      "provenance": [],
      "collapsed_sections": [
        "WLaWHUfNThH6",
        "FGa3gNGNnNok"
      ]
    },
    "kernelspec": {
      "name": "python3",
      "display_name": "Python 3"
    },
    "language_info": {
      "name": "python"
    },
    "accelerator": "GPU"
  },
  "cells": [
    {
      "cell_type": "markdown",
      "source": [
        "## IMAGE RECOGNITION USING CONVOLUTIONAL NEURAL NETWORK"
      ],
      "metadata": {
        "id": "-kNpXVTQuw3c"
      }
    },
    {
      "cell_type": "markdown",
      "source": [
        "## IMPORTING LIBRARIES"
      ],
      "metadata": {
        "id": "SfbIivyJQBZh"
      }
    },
    {
      "cell_type": "code",
      "execution_count": null,
      "metadata": {
        "id": "tlETo1Exu1GJ"
      },
      "outputs": [],
      "source": [
        "import tensorflow as tf\n",
        "from tensorflow.keras import datasets, layers, models\n",
        "from keras.datasets import cifar10\n",
        "from keras.utils import np_utils\n",
        "from matplotlib import pyplot as plt\n",
        "import numpy as np\n",
        "from PIL import Image"
      ]
    },
    {
      "cell_type": "code",
      "source": [
        "import tensorflow as tf\n",
        "import matplotlib.pyplot as plt\n",
        "import numpy as np\n",
        "import pandas as pd\n",
        "from PIL import Image\n",
        "from tensorflow.keras.preprocessing.image import ImageDataGenerator\n",
        "from tensorflow.keras.models import load_model\n",
        "from tensorflow.keras.models import Sequential\n",
        "from tensorflow.keras.preprocessing.image import ImageDataGenerator\n",
        "from tensorflow.keras.preprocessing.image import load_img , img_to_array\n",
        "from tensorflow.keras.layers import Conv2D, MaxPooling2D"
      ],
      "metadata": {
        "id": "57rrI15Hu7UJ"
      },
      "execution_count": null,
      "outputs": []
    },
    {
      "cell_type": "code",
      "source": [],
      "metadata": {
        "id": "z3LPM6HGnKJY"
      },
      "execution_count": null,
      "outputs": []
    },
    {
      "cell_type": "markdown",
      "source": [
        "## LOAD THE DATASET"
      ],
      "metadata": {
        "id": "WLaWHUfNThH6"
      }
    },
    {
      "cell_type": "code",
      "source": [
        "(X_train, y_train), (X_test, y_test) = datasets.cifar10.load_data()\n",
        "print('Training images: {}'.format(X_train.shape))\n",
        "print('Testing images: {}'.format(X_test.shape))"
      ],
      "metadata": {
        "colab": {
          "base_uri": "https://localhost:8080/"
        },
        "id": "HSGgl0IrvNbb",
        "outputId": "5acccef0-251c-42fb-8a82-8f98deebb125"
      },
      "execution_count": null,
      "outputs": [
        {
          "output_type": "stream",
          "name": "stdout",
          "text": [
            "Downloading data from https://www.cs.toronto.edu/~kriz/cifar-10-python.tar.gz\n",
            "170500096/170498071 [==============================] - 13s 0us/step\n",
            "170508288/170498071 [==============================] - 13s 0us/step\n",
            "Training images: (50000, 32, 32, 3)\n",
            "Testing images: (10000, 32, 32, 3)\n"
          ]
        }
      ]
    },
    {
      "cell_type": "markdown",
      "source": [
        "\n",
        "\n",
        "---\n",
        "\n",
        "\n",
        "\n",
        "---\n",
        "\n"
      ],
      "metadata": {
        "id": "Rvx0y9lDthjf"
      }
    },
    {
      "cell_type": "code",
      "source": [
        "y_train[:5]"
      ],
      "metadata": {
        "colab": {
          "base_uri": "https://localhost:8080/"
        },
        "id": "NO0nNUQYfda_",
        "outputId": "eb83ecb9-c442-4fab-a83a-3177a62953d7"
      },
      "execution_count": null,
      "outputs": [
        {
          "output_type": "execute_result",
          "data": {
            "text/plain": [
              "array([[6],\n",
              "       [9],\n",
              "       [9],\n",
              "       [4],\n",
              "       [1]], dtype=uint8)"
            ]
          },
          "metadata": {},
          "execution_count": 5
        }
      ]
    },
    {
      "cell_type": "code",
      "source": [
        "y_train = y_train.reshape(-1,)\n",
        "y_train[:5]\n"
      ],
      "metadata": {
        "colab": {
          "base_uri": "https://localhost:8080/"
        },
        "id": "uyySx4HXffDK",
        "outputId": "f3f206fe-b9b3-4a5e-ccef-e69210062607"
      },
      "execution_count": null,
      "outputs": [
        {
          "output_type": "execute_result",
          "data": {
            "text/plain": [
              "array([6, 9, 9, 4, 1], dtype=uint8)"
            ]
          },
          "metadata": {},
          "execution_count": 6
        }
      ]
    },
    {
      "cell_type": "code",
      "source": [
        "\n",
        "y_test = y_test.reshape(-1,)"
      ],
      "metadata": {
        "id": "12oRpN28fhUu"
      },
      "execution_count": null,
      "outputs": []
    },
    {
      "cell_type": "markdown",
      "source": [
        "### PLOTTING THE DATASET"
      ],
      "metadata": {
        "id": "oczXRN58TlLp"
      }
    },
    {
      "cell_type": "code",
      "source": [
        "classes = [\"airplane\",\"automobile\",\"bird\",\"cat\",\"deer\",\"dog\",\"frog\",\"horse\",\"ship\",\"truck\"]"
      ],
      "metadata": {
        "id": "Zc33SoQzfoM3"
      },
      "execution_count": null,
      "outputs": []
    },
    {
      "cell_type": "code",
      "source": [
        "def plot_sample(X, y, index):\n",
        "    plt.figure(figsize = (15,2))\n",
        "    plt.imshow(X[index])\n",
        "    plt.xlabel(classes[y[index]])"
      ],
      "metadata": {
        "id": "vCwDIl23fjWT"
      },
      "execution_count": null,
      "outputs": []
    },
    {
      "cell_type": "code",
      "source": [
        "plot_sample(X_train, y_train, 7)"
      ],
      "metadata": {
        "colab": {
          "base_uri": "https://localhost:8080/",
          "height": 173
        },
        "id": "XCT33yOkflAs",
        "outputId": "f6b4d46a-4584-446d-9f80-7d578a673349"
      },
      "execution_count": null,
      "outputs": [
        {
          "output_type": "display_data",
          "data": {
            "text/plain": [
              "<Figure size 1080x144 with 1 Axes>"
            ],
            "image/png": "[encoded data removed]"
          },
          "metadata": {
            "needs_background": "light"
          }
        }
      ]
    },
    {
      "cell_type": "code",
      "source": [
        "plot_sample(X_train, y_train, 454)"
      ],
      "metadata": {
        "colab": {
          "base_uri": "https://localhost:8080/",
          "height": 173
        },
        "id": "jtJeyi-GvhB5",
        "outputId": "09045d4d-bcca-4ec5-c672-1b8455bc8dc4"
      },
      "execution_count": null,
      "outputs": [
        {
          "output_type": "display_data",
          "data": {
            "text/plain": [
              "<Figure size 1080x144 with 1 Axes>"
            ],
            "image/png": "[encoded data removed]"
          },
          "metadata": {
            "needs_background": "light"
          }
        }
      ]
    },
    {
      "cell_type": "code",
      "source": [
        "#create a grid of 3x3 images(9 images of 3x3 subplots)\n",
        "for i in range(0,9):\n",
        "    plt.subplot(330+1+i)#denotes 3x3 and postion\n",
        "    img=X_train[i+50]#no need to transpose else transpose([1,2,0])\n",
        "    plt.imshow(img)\n",
        "\n",
        "plt.show()"
      ],
      "metadata": {
        "id": "6moSu6GtRPxJ"
      },
      "execution_count": null,
      "outputs": []
    },
    {
      "cell_type": "markdown",
      "source": [
        "## DATA PRE-PROCESSING & IMAGE AUGMENTATION"
      ],
      "metadata": {
        "id": "hesVzeh_tm-2"
      }
    },
    {
      "cell_type": "markdown",
      "source": [
        "**Using Data generators**\n"
      ],
      "metadata": {
        "id": "l-Wr-u7Btzi6"
      }
    },
    {
      "cell_type": "markdown",
      "source": [
        "Image augmentation artificially creates training images through different ways of processing or combination of multiple processing, such as random rotation, shifts, shear and flips, etc"
      ],
      "metadata": {
        "id": "cxG9-ZaTvMbo"
      }
    },
    {
      "cell_type": "code",
      "source": [
        "\n",
        "datagen = ImageDataGenerator(\n",
        "                            rotation_range=15,\n",
        "                            width_shift_range=0.1,\n",
        "                            height_shift_range=0.1,\n",
        "                            horizontal_flip=True,\n",
        ")"
      ],
      "metadata": {
        "id": "XLIGH9_7toUg"
      },
      "execution_count": null,
      "outputs": []
    },
    {
      "cell_type": "markdown",
      "source": [
        "NORMALIZATION"
      ],
      "metadata": {
        "id": "i3mRNgTVQNG-"
      }
    },
    {
      "cell_type": "code",
      "source": [
        "X_train = X_train / 255.0\n",
        "X_test = X_test / 255.0"
      ],
      "metadata": {
        "id": "fYp2PR4Rfsa3"
      },
      "execution_count": null,
      "outputs": []
    },
    {
      "cell_type": "markdown",
      "source": [
        "# ARTIFICIAL NEURAL NETWORK MODEL"
      ],
      "metadata": {
        "id": "cRGRPpdyP8tq"
      }
    },
    {
      "cell_type": "code",
      "source": [
        "ann = models.Sequential([\n",
        "        layers.Flatten(input_shape=(32,32,3)),\n",
        "        layers.Dense(3000, activation='relu'),\n",
        "        layers.Dense(1000, activation='relu'),\n",
        "        layers.Dense(10, activation='softmax')\n",
        "    ])\n",
        "\n",
        "ann.compile(optimizer='SGD',\n",
        "              loss='sparse_categorical_crossentropy',\n",
        "              metrics=['accuracy'])\n",
        "\n",
        "ann.fit(datagen.flow(X_train, y_train), epochs=20)"
      ],
      "metadata": {
        "colab": {
          "base_uri": "https://localhost:8080/"
        },
        "id": "pS0KFVlcfuo5",
        "outputId": "1df828cf-9593-4ab0-f1f0-13cd9dfae300"
      },
      "execution_count": null,
      "outputs": [
        {
          "output_type": "stream",
          "name": "stdout",
          "text": [
            "Epoch 1/20\n",
            "1563/1563 [==============================] - 29s 15ms/step - loss: 1.8789 - accuracy: 0.3256\n",
            "Epoch 2/20\n",
            "1563/1563 [==============================] - 24s 15ms/step - loss: 1.7233 - accuracy: 0.3882\n",
            "Epoch 3/20\n",
            "1563/1563 [==============================] - 23s 15ms/step - loss: 1.6636 - accuracy: 0.4083\n",
            "Epoch 4/20\n",
            "1563/1563 [==============================] - 24s 15ms/step - loss: 1.6224 - accuracy: 0.4241\n",
            "Epoch 5/20\n",
            "1563/1563 [==============================] - 24s 16ms/step - loss: 1.5906 - accuracy: 0.4335\n",
            "Epoch 6/20\n",
            "1563/1563 [==============================] - 24s 15ms/step - loss: 1.5620 - accuracy: 0.4444\n",
            "Epoch 7/20\n",
            "1563/1563 [==============================] - 24s 15ms/step - loss: 1.5413 - accuracy: 0.4551\n",
            "Epoch 8/20\n",
            "1563/1563 [==============================] - 24s 15ms/step - loss: 1.5187 - accuracy: 0.4609\n",
            "Epoch 9/20\n",
            "1563/1563 [==============================] - 24s 15ms/step - loss: 1.5018 - accuracy: 0.4654\n",
            "Epoch 10/20\n",
            "1563/1563 [==============================] - 24s 16ms/step - loss: 1.4862 - accuracy: 0.4725\n",
            "Epoch 11/20\n",
            "1563/1563 [==============================] - 27s 17ms/step - loss: 1.4741 - accuracy: 0.4779\n",
            "Epoch 12/20\n",
            "1563/1563 [==============================] - 24s 15ms/step - loss: 1.4601 - accuracy: 0.4789\n",
            "Epoch 13/20\n",
            "1563/1563 [==============================] - 24s 15ms/step - loss: 1.4468 - accuracy: 0.4856\n",
            "Epoch 14/20\n",
            "1563/1563 [==============================] - 24s 15ms/step - loss: 1.4318 - accuracy: 0.4896\n",
            "Epoch 15/20\n",
            "1563/1563 [==============================] - 26s 17ms/step - loss: 1.4234 - accuracy: 0.4945\n",
            "Epoch 16/20\n",
            "1563/1563 [==============================] - 24s 15ms/step - loss: 1.4101 - accuracy: 0.4971\n",
            "Epoch 17/20\n",
            "1563/1563 [==============================] - 24s 15ms/step - loss: 1.4016 - accuracy: 0.5006\n",
            "Epoch 18/20\n",
            "1563/1563 [==============================] - 24s 15ms/step - loss: 1.3940 - accuracy: 0.5034\n",
            "Epoch 19/20\n",
            "1563/1563 [==============================] - 24s 15ms/step - loss: 1.3844 - accuracy: 0.5070\n",
            "Epoch 20/20\n",
            "1563/1563 [==============================] - 24s 15ms/step - loss: 1.3739 - accuracy: 0.5120\n"
          ]
        },
        {
          "output_type": "execute_result",
          "data": {
            "text/plain": [
              "<keras.callbacks.History at 0x7fc7e0448190>"
            ]
          },
          "metadata": {},
          "execution_count": 13
        }
      ]
    },
    {
      "cell_type": "code",
      "source": [
        "from sklearn.metrics import confusion_matrix , classification_report\n",
        "import numpy as np\n",
        "y_pred = ann.predict(X_test)\n",
        "y_pred_classes = [np.argmax(element) for element in y_pred]\n",
        "\n",
        "print(\"Classification Report: \\n\", classification_report(y_test, y_pred_classes))"
      ],
      "metadata": {
        "colab": {
          "base_uri": "https://localhost:8080/"
        },
        "id": "f66ivXxPgFEN",
        "outputId": "c8553598-ec10-4a35-8032-02e885272ede"
      },
      "execution_count": null,
      "outputs": [
        {
          "output_type": "stream",
          "name": "stdout",
          "text": [
            "Classification Report: \n",
            "               precision    recall  f1-score   support\n",
            "\n",
            "           0       0.58      0.64      0.61      1000\n",
            "           1       0.63      0.69      0.66      1000\n",
            "           2       0.50      0.33      0.40      1000\n",
            "           3       0.43      0.28      0.34      1000\n",
            "           4       0.50      0.44      0.47      1000\n",
            "           5       0.49      0.38      0.43      1000\n",
            "           6       0.63      0.57      0.60      1000\n",
            "           7       0.43      0.78      0.55      1000\n",
            "           8       0.70      0.65      0.67      1000\n",
            "           9       0.55      0.66      0.60      1000\n",
            "\n",
            "    accuracy                           0.54     10000\n",
            "   macro avg       0.55      0.54      0.53     10000\n",
            "weighted avg       0.55      0.54      0.53     10000\n",
            "\n"
          ]
        }
      ]
    },
    {
      "cell_type": "markdown",
      "source": [],
      "metadata": {
        "id": "SMdyGDYbAc5S"
      }
    },
    {
      "cell_type": "code",
      "source": [
        "ann.summary()"
      ],
      "metadata": {
        "colab": {
          "base_uri": "https://localhost:8080/"
        },
        "id": "3y7EzoyOf3EO",
        "outputId": "1e24ba74-00e1-46ec-b882-20cf10c9516b"
      },
      "execution_count": null,
      "outputs": [
        {
          "output_type": "stream",
          "name": "stdout",
          "text": [
            "Model: \"sequential\"\n",
            "_________________________________________________________________\n",
            " Layer (type)                Output Shape              Param #   \n",
            "=================================================================\n",
            " flatten (Flatten)           (None, 3072)              0         \n",
            "                                                                 \n",
            " dense (Dense)               (None, 3000)              9219000   \n",
            "                                                                 \n",
            " dense_1 (Dense)             (None, 1000)              3001000   \n",
            "                                                                 \n",
            " dense_2 (Dense)             (None, 10)                10010     \n",
            "                                                                 \n",
            "=================================================================\n",
            "Total params: 12,230,010\n",
            "Trainable params: 12,230,010\n",
            "Non-trainable params: 0\n",
            "_________________________________________________________________\n"
          ]
        }
      ]
    },
    {
      "cell_type": "markdown",
      "source": [
        "\n",
        "\n",
        "---\n",
        "\n",
        "\n",
        "\n",
        "---\n",
        "\n"
      ],
      "metadata": {
        "id": "Zt5p2T79kYpC"
      }
    },
    {
      "cell_type": "markdown",
      "source": [
        "# CONVOLUTIONAL NEURAL NETWORK MODEL"
      ],
      "metadata": {
        "id": "mQQWxVB5TdPU"
      }
    },
    {
      "cell_type": "code",
      "source": [
        "cnn1 = models.Sequential([\n",
        "    layers.Conv2D(filters=32, kernel_size=(3, 3), activation='relu', input_shape=(32, 32, 3)),\n",
        "    layers.MaxPooling2D((2, 2)),\n",
        "\n",
        "    layers.Conv2D(filters=64, kernel_size=(3, 3), activation='relu'),\n",
        "    layers.MaxPooling2D((2, 2)),\n",
        "    layers.Conv2D(filters=64, kernel_size=(3, 3), activation='relu'),\n",
        "    layers.MaxPooling2D((2, 2)),\n",
        "\n",
        "\n",
        "    layers.Flatten(),\n",
        "    layers.Dense(64, activation='relu'),\n",
        "    layers.Dense(10, activation='softmax')\n",
        "])\n",
        "\n"
      ],
      "metadata": {
        "id": "zeimAp6PkZBw"
      },
      "execution_count": null,
      "outputs": []
    },
    {
      "cell_type": "code",
      "source": [
        "cnn1.compile(optimizer='adam',\n",
        "              loss='sparse_categorical_crossentropy',\n",
        "              metrics=['accuracy'])"
      ],
      "metadata": {
        "id": "dNx-nbQckczY"
      },
      "execution_count": null,
      "outputs": []
    },
    {
      "cell_type": "code",
      "source": [
        "cnn1.fit(X_train, y_train,epochs=50)"
      ],
      "metadata": {
        "colab": {
          "base_uri": "https://localhost:8080/"
        },
        "id": "JnpbX5FYkj8n",
        "outputId": "1d382f9a-16c2-4d77-ac90-4cb6906216d3"
      },
      "execution_count": null,
      "outputs": [
        {
          "output_type": "stream",
          "name": "stdout",
          "text": [
            "Epoch 1/50\n",
            "1563/1563 [==============================] - 16s 4ms/step - loss: 1.5590 - accuracy: 0.4264\n",
            "Epoch 2/50\n",
            "1563/1563 [==============================] - 6s 4ms/step - loss: 1.1914 - accuracy: 0.5754\n",
            "Epoch 3/50\n",
            "1563/1563 [==============================] - 6s 4ms/step - loss: 1.0425 - accuracy: 0.6354\n",
            "Epoch 4/50\n",
            "1563/1563 [==============================] - 6s 4ms/step - loss: 0.9429 - accuracy: 0.6707\n",
            "Epoch 5/50\n",
            "1563/1563 [==============================] - 6s 4ms/step - loss: 0.8790 - accuracy: 0.6951\n",
            "Epoch 6/50\n",
            "1563/1563 [==============================] - 6s 4ms/step - loss: 0.8212 - accuracy: 0.7135\n",
            "Epoch 7/50\n",
            "1563/1563 [==============================] - 6s 4ms/step - loss: 0.7711 - accuracy: 0.7312\n",
            "Epoch 8/50\n",
            "1563/1563 [==============================] - 7s 5ms/step - loss: 0.7302 - accuracy: 0.7449\n",
            "Epoch 9/50\n",
            "1563/1563 [==============================] - 7s 4ms/step - loss: 0.6912 - accuracy: 0.7600\n",
            "Epoch 10/50\n",
            "1563/1563 [==============================] - 6s 4ms/step - loss: 0.6581 - accuracy: 0.7702\n",
            "Epoch 11/50\n",
            "1563/1563 [==============================] - 6s 4ms/step - loss: 0.6321 - accuracy: 0.7795\n",
            "Epoch 12/50\n",
            "1563/1563 [==============================] - 6s 4ms/step - loss: 0.6013 - accuracy: 0.7885\n",
            "Epoch 13/50\n",
            "1563/1563 [==============================] - 7s 4ms/step - loss: 0.5732 - accuracy: 0.7986\n",
            "Epoch 14/50\n",
            "1563/1563 [==============================] - 6s 4ms/step - loss: 0.5521 - accuracy: 0.8072\n",
            "Epoch 15/50\n",
            "1563/1563 [==============================] - 6s 4ms/step - loss: 0.5276 - accuracy: 0.8137\n",
            "Epoch 16/50\n",
            "1563/1563 [==============================] - 6s 4ms/step - loss: 0.5077 - accuracy: 0.8194\n",
            "Epoch 17/50\n",
            "1563/1563 [==============================] - 6s 4ms/step - loss: 0.4890 - accuracy: 0.8279\n",
            "Epoch 18/50\n",
            "1563/1563 [==============================] - 6s 4ms/step - loss: 0.4600 - accuracy: 0.8371\n",
            "Epoch 19/50\n",
            "1563/1563 [==============================] - 6s 4ms/step - loss: 0.4516 - accuracy: 0.8404\n",
            "Epoch 20/50\n",
            "1563/1563 [==============================] - 7s 5ms/step - loss: 0.4342 - accuracy: 0.8443\n",
            "Epoch 21/50\n",
            "1563/1563 [==============================] - 6s 4ms/step - loss: 0.4120 - accuracy: 0.8529\n",
            "Epoch 22/50\n",
            "1563/1563 [==============================] - 6s 4ms/step - loss: 0.3973 - accuracy: 0.8582\n",
            "Epoch 23/50\n",
            "1563/1563 [==============================] - 6s 4ms/step - loss: 0.3830 - accuracy: 0.8615\n",
            "Epoch 24/50\n",
            "1563/1563 [==============================] - 6s 4ms/step - loss: 0.3752 - accuracy: 0.8630\n",
            "Epoch 25/50\n",
            "1563/1563 [==============================] - 6s 4ms/step - loss: 0.3573 - accuracy: 0.8707\n",
            "Epoch 26/50\n",
            "1563/1563 [==============================] - 6s 4ms/step - loss: 0.3460 - accuracy: 0.8752\n",
            "Epoch 27/50\n",
            "1563/1563 [==============================] - 6s 4ms/step - loss: 0.3288 - accuracy: 0.8815\n",
            "Epoch 28/50\n",
            "1563/1563 [==============================] - 6s 4ms/step - loss: 0.3163 - accuracy: 0.8858\n",
            "Epoch 29/50\n",
            "1563/1563 [==============================] - 6s 4ms/step - loss: 0.3143 - accuracy: 0.8881\n",
            "Epoch 30/50\n",
            "1563/1563 [==============================] - 6s 4ms/step - loss: 0.2973 - accuracy: 0.8928\n",
            "Epoch 31/50\n",
            "1563/1563 [==============================] - 6s 4ms/step - loss: 0.2842 - accuracy: 0.8953\n",
            "Epoch 32/50\n",
            "1563/1563 [==============================] - 6s 4ms/step - loss: 0.2788 - accuracy: 0.8985\n",
            "Epoch 33/50\n",
            "1563/1563 [==============================] - 6s 4ms/step - loss: 0.2698 - accuracy: 0.9021\n",
            "Epoch 34/50\n",
            "1563/1563 [==============================] - 6s 4ms/step - loss: 0.2636 - accuracy: 0.9054\n",
            "Epoch 35/50\n",
            "1563/1563 [==============================] - 6s 4ms/step - loss: 0.2569 - accuracy: 0.9074\n",
            "Epoch 36/50\n",
            "1563/1563 [==============================] - 6s 4ms/step - loss: 0.2436 - accuracy: 0.9117\n",
            "Epoch 37/50\n",
            "1563/1563 [==============================] - 6s 4ms/step - loss: 0.2356 - accuracy: 0.9149\n",
            "Epoch 38/50\n",
            "1563/1563 [==============================] - 6s 4ms/step - loss: 0.2353 - accuracy: 0.9139\n",
            "Epoch 39/50\n",
            "1563/1563 [==============================] - 6s 4ms/step - loss: 0.2233 - accuracy: 0.9180\n",
            "Epoch 40/50\n",
            "1563/1563 [==============================] - 6s 4ms/step - loss: 0.2184 - accuracy: 0.9204\n",
            "Epoch 41/50\n",
            "1563/1563 [==============================] - 6s 4ms/step - loss: 0.2162 - accuracy: 0.9213\n",
            "Epoch 42/50\n",
            "1563/1563 [==============================] - 6s 4ms/step - loss: 0.2078 - accuracy: 0.9244\n",
            "Epoch 43/50\n",
            "1563/1563 [==============================] - 6s 4ms/step - loss: 0.2061 - accuracy: 0.9234\n",
            "Epoch 44/50\n",
            "1563/1563 [==============================] - 6s 4ms/step - loss: 0.2048 - accuracy: 0.9253\n",
            "Epoch 45/50\n",
            "1563/1563 [==============================] - 6s 4ms/step - loss: 0.1927 - accuracy: 0.9300\n",
            "Epoch 46/50\n",
            "1563/1563 [==============================] - 6s 4ms/step - loss: 0.1959 - accuracy: 0.9299\n",
            "Epoch 47/50\n",
            "1563/1563 [==============================] - 6s 4ms/step - loss: 0.1899 - accuracy: 0.9320\n",
            "Epoch 48/50\n",
            "1563/1563 [==============================] - 6s 4ms/step - loss: 0.1810 - accuracy: 0.9343\n",
            "Epoch 49/50\n",
            "1563/1563 [==============================] - 6s 4ms/step - loss: 0.1842 - accuracy: 0.9328\n",
            "Epoch 50/50\n",
            "1563/1563 [==============================] - 6s 4ms/step - loss: 0.1865 - accuracy: 0.9326\n"
          ]
        },
        {
          "output_type": "execute_result",
          "data": {
            "text/plain": [
              "<keras.callbacks.History at 0x7fc77405f050>"
            ]
          },
          "metadata": {},
          "execution_count": 18
        }
      ]
    },
    {
      "cell_type": "code",
      "source": [
        "from sklearn.metrics import confusion_matrix , classification_report\n",
        "import numpy as np\n",
        "y_pred = cnn1.predict(X_test)\n",
        "y_pred_classes = [np.argmax(element) for element in y_pred]\n",
        "\n",
        "print(\"Classification Report: \\n\", classification_report(y_test, y_pred_classes))"
      ],
      "metadata": {
        "id": "qDEpI-BZnwbB"
      },
      "execution_count": null,
      "outputs": []
    },
    {
      "cell_type": "code",
      "source": [
        "cnn1.summary()"
      ],
      "metadata": {
        "colab": {
          "base_uri": "https://localhost:8080/"
        },
        "id": "UlceuGOInzay",
        "outputId": "0863fc95-853d-4d5e-ae41-c4c1e69f6395"
      },
      "execution_count": null,
      "outputs": [
        {
          "output_type": "stream",
          "name": "stdout",
          "text": [
            "Model: \"sequential_3\"\n",
            "_________________________________________________________________\n",
            " Layer (type)                Output Shape              Param #   \n",
            "=================================================================\n",
            " conv2d_6 (Conv2D)           (None, 30, 30, 32)        896       \n",
            "                                                                 \n",
            " max_pooling2d_6 (MaxPooling  (None, 15, 15, 32)       0         \n",
            " 2D)                                                             \n",
            "                                                                 \n",
            " conv2d_7 (Conv2D)           (None, 13, 13, 64)        18496     \n",
            "                                                                 \n",
            " max_pooling2d_7 (MaxPooling  (None, 6, 6, 64)         0         \n",
            " 2D)                                                             \n",
            "                                                                 \n",
            " conv2d_8 (Conv2D)           (None, 4, 4, 64)          36928     \n",
            "                                                                 \n",
            " max_pooling2d_8 (MaxPooling  (None, 2, 2, 64)         0         \n",
            " 2D)                                                             \n",
            "                                                                 \n",
            " flatten_3 (Flatten)         (None, 256)               0         \n",
            "                                                                 \n",
            " dense_7 (Dense)             (None, 64)                16448     \n",
            "                                                                 \n",
            " dense_8 (Dense)             (None, 10)                650       \n",
            "                                                                 \n",
            "=================================================================\n",
            "Total params: 73,418\n",
            "Trainable params: 73,418\n",
            "Non-trainable params: 0\n",
            "_________________________________________________________________\n"
          ]
        }
      ]
    },
    {
      "cell_type": "code",
      "source": [
        "cnn2 = models.Sequential([\n",
        "    layers.Conv2D(filters=32, kernel_size=(3, 3), activation='relu', input_shape=(32, 32, 3)),\n",
        "    layers.MaxPooling2D((2, 2)),\n",
        "\n",
        "    layers.Conv2D(filters=64, kernel_size=(3, 3), activation='relu'),\n",
        "    layers.MaxPooling2D((2, 2)),\n",
        "\n",
        "    layers.Flatten(),\n",
        "    layers.Dense(64, activation='relu'),\n",
        "    layers.Dense(10, activation='softmax')\n",
        "])"
      ],
      "metadata": {
        "id": "k9dogo8tp4DK"
      },
      "execution_count": null,
      "outputs": []
    },
    {
      "cell_type": "code",
      "source": [
        "cnn2.compile(optimizer='adam',\n",
        "              loss='sparse_categorical_crossentropy',\n",
        "              metrics=['accuracy'])"
      ],
      "metadata": {
        "id": "DlVrr-GMS-6K"
      },
      "execution_count": null,
      "outputs": []
    },
    {
      "cell_type": "code",
      "source": [
        "cnn2.fit(X_train, y_train,epochs=50)"
      ],
      "metadata": {
        "colab": {
          "base_uri": "https://localhost:8080/"
        },
        "id": "7O27SOFHS_Zx",
        "outputId": "42e6e717-0bda-4758-dcb2-042fb67027f6"
      },
      "execution_count": null,
      "outputs": [
        {
          "output_type": "stream",
          "name": "stdout",
          "text": [
            "Epoch 1/50\n",
            "1563/1563 [==============================] - 6s 3ms/step - loss: 1.4481 - accuracy: 0.4758\n",
            "Epoch 2/50\n",
            "1563/1563 [==============================] - 6s 4ms/step - loss: 1.1047 - accuracy: 0.6117\n",
            "Epoch 3/50\n",
            "1563/1563 [==============================] - 8s 5ms/step - loss: 0.9871 - accuracy: 0.6550\n",
            "Epoch 4/50\n",
            "1563/1563 [==============================] - 5s 3ms/step - loss: 0.9080 - accuracy: 0.6830\n",
            "Epoch 5/50\n",
            "1563/1563 [==============================] - 5s 3ms/step - loss: 0.8456 - accuracy: 0.7051\n",
            "Epoch 6/50\n",
            "1563/1563 [==============================] - 5s 3ms/step - loss: 0.7892 - accuracy: 0.7267\n",
            "Epoch 7/50\n",
            "1563/1563 [==============================] - 5s 3ms/step - loss: 0.7374 - accuracy: 0.7443\n",
            "Epoch 8/50\n",
            "1563/1563 [==============================] - 6s 4ms/step - loss: 0.6868 - accuracy: 0.7618\n",
            "Epoch 9/50\n",
            "1563/1563 [==============================] - 5s 4ms/step - loss: 0.6504 - accuracy: 0.7741\n",
            "Epoch 10/50\n",
            "1563/1563 [==============================] - 5s 3ms/step - loss: 0.6101 - accuracy: 0.7872\n",
            "Epoch 11/50\n",
            "1563/1563 [==============================] - 5s 3ms/step - loss: 0.5753 - accuracy: 0.7981\n",
            "Epoch 12/50\n",
            "1563/1563 [==============================] - 5s 3ms/step - loss: 0.5432 - accuracy: 0.8076\n",
            "Epoch 13/50\n",
            "1563/1563 [==============================] - 5s 3ms/step - loss: 0.5135 - accuracy: 0.8196\n",
            "Epoch 14/50\n",
            "1563/1563 [==============================] - 5s 3ms/step - loss: 0.4828 - accuracy: 0.8291\n",
            "Epoch 15/50\n",
            "1563/1563 [==============================] - 5s 3ms/step - loss: 0.4583 - accuracy: 0.8388\n",
            "Epoch 16/50\n",
            "1563/1563 [==============================] - 5s 3ms/step - loss: 0.4333 - accuracy: 0.8466\n",
            "Epoch 17/50\n",
            "1563/1563 [==============================] - 5s 3ms/step - loss: 0.4161 - accuracy: 0.8507\n",
            "Epoch 18/50\n",
            "1563/1563 [==============================] - 5s 3ms/step - loss: 0.3866 - accuracy: 0.8625\n",
            "Epoch 19/50\n",
            "1563/1563 [==============================] - 6s 4ms/step - loss: 0.3710 - accuracy: 0.8665\n",
            "Epoch 20/50\n",
            "1563/1563 [==============================] - 5s 3ms/step - loss: 0.3454 - accuracy: 0.8753\n",
            "Epoch 21/50\n",
            "1563/1563 [==============================] - 5s 3ms/step - loss: 0.3297 - accuracy: 0.8820\n",
            "Epoch 22/50\n",
            "1563/1563 [==============================] - 5s 3ms/step - loss: 0.3120 - accuracy: 0.8877\n",
            "Epoch 23/50\n",
            "1563/1563 [==============================] - 5s 3ms/step - loss: 0.2955 - accuracy: 0.8941\n",
            "Epoch 24/50\n",
            "1563/1563 [==============================] - 5s 3ms/step - loss: 0.2786 - accuracy: 0.9006\n",
            "Epoch 25/50\n",
            "1563/1563 [==============================] - 5s 3ms/step - loss: 0.2654 - accuracy: 0.9036\n",
            "Epoch 26/50\n",
            "1563/1563 [==============================] - 5s 3ms/step - loss: 0.2511 - accuracy: 0.9091\n",
            "Epoch 27/50\n",
            "1563/1563 [==============================] - 5s 3ms/step - loss: 0.2405 - accuracy: 0.9127\n",
            "Epoch 28/50\n",
            "1563/1563 [==============================] - 5s 3ms/step - loss: 0.2292 - accuracy: 0.9165\n",
            "Epoch 29/50\n",
            "1563/1563 [==============================] - 5s 3ms/step - loss: 0.2195 - accuracy: 0.9198\n",
            "Epoch 30/50\n",
            "1563/1563 [==============================] - 5s 3ms/step - loss: 0.2051 - accuracy: 0.9268\n",
            "Epoch 31/50\n",
            "1563/1563 [==============================] - 6s 4ms/step - loss: 0.1986 - accuracy: 0.9282\n",
            "Epoch 32/50\n",
            "1563/1563 [==============================] - 5s 3ms/step - loss: 0.1861 - accuracy: 0.9335\n",
            "Epoch 33/50\n",
            "1563/1563 [==============================] - 5s 3ms/step - loss: 0.1870 - accuracy: 0.9311\n",
            "Epoch 34/50\n",
            "1563/1563 [==============================] - 5s 3ms/step - loss: 0.1753 - accuracy: 0.9377\n",
            "Epoch 35/50\n",
            "1563/1563 [==============================] - 5s 3ms/step - loss: 0.1618 - accuracy: 0.9417\n",
            "Epoch 36/50\n",
            "1563/1563 [==============================] - 5s 3ms/step - loss: 0.1642 - accuracy: 0.9405\n",
            "Epoch 37/50\n",
            "1563/1563 [==============================] - 5s 3ms/step - loss: 0.1562 - accuracy: 0.9446\n",
            "Epoch 38/50\n",
            "1563/1563 [==============================] - 5s 3ms/step - loss: 0.1487 - accuracy: 0.9458\n",
            "Epoch 39/50\n",
            "1563/1563 [==============================] - 6s 4ms/step - loss: 0.1435 - accuracy: 0.9475\n",
            "Epoch 40/50\n",
            "1563/1563 [==============================] - 5s 3ms/step - loss: 0.1505 - accuracy: 0.9470\n",
            "Epoch 41/50\n",
            "1563/1563 [==============================] - 5s 3ms/step - loss: 0.1446 - accuracy: 0.9484\n",
            "Epoch 42/50\n",
            "1563/1563 [==============================] - 6s 4ms/step - loss: 0.1329 - accuracy: 0.9520\n",
            "Epoch 43/50\n",
            "1563/1563 [==============================] - 5s 3ms/step - loss: 0.1276 - accuracy: 0.9544\n",
            "Epoch 44/50\n",
            "1563/1563 [==============================] - 5s 3ms/step - loss: 0.1292 - accuracy: 0.9533\n",
            "Epoch 45/50\n",
            "1563/1563 [==============================] - 5s 3ms/step - loss: 0.1297 - accuracy: 0.9538\n",
            "Epoch 46/50\n",
            "1563/1563 [==============================] - 5s 3ms/step - loss: 0.1189 - accuracy: 0.9581\n",
            "Epoch 47/50\n",
            "1563/1563 [==============================] - 5s 3ms/step - loss: 0.1178 - accuracy: 0.9587\n",
            "Epoch 48/50\n",
            "1563/1563 [==============================] - 5s 3ms/step - loss: 0.1143 - accuracy: 0.9587\n",
            "Epoch 49/50\n",
            "1563/1563 [==============================] - 5s 3ms/step - loss: 0.1149 - accuracy: 0.9597\n",
            "Epoch 50/50\n",
            "1563/1563 [==============================] - 5s 3ms/step - loss: 0.1125 - accuracy: 0.9610\n"
          ]
        },
        {
          "output_type": "execute_result",
          "data": {
            "text/plain": [
              "<keras.callbacks.History at 0x7fc7604e9d50>"
            ]
          },
          "metadata": {},
          "execution_count": 23
        }
      ]
    },
    {
      "cell_type": "code",
      "source": [
        "from sklearn.metrics import confusion_matrix , classification_report\n",
        "import numpy as np\n",
        "y_pred = cnn2.predict(X_test)\n",
        "y_pred_classes = [np.argmax(element) for element in y_pred]\n",
        "\n",
        "print(\"Classification Report: \\n\", classification_report(y_test, y_pred_classes))"
      ],
      "metadata": {
        "id": "b8Dm2_caUpFD"
      },
      "execution_count": null,
      "outputs": []
    },
    {
      "cell_type": "code",
      "source": [],
      "metadata": {
        "id": "Z8e2Aj8HZT7d"
      },
      "execution_count": null,
      "outputs": []
    },
    {
      "cell_type": "markdown",
      "source": [
        "# MODEL 2"
      ],
      "metadata": {
        "id": "FGa3gNGNnNok"
      }
    },
    {
      "cell_type": "code",
      "source": [
        "from keras.datasets import cifar10\n",
        "from keras.utils import np_utils\n",
        "from matplotlib import pyplot as plt\n",
        "import numpy as np\n",
        "from PIL import Image"
      ],
      "metadata": {
        "id": "D_E0R7JGnSaP"
      },
      "execution_count": null,
      "outputs": []
    },
    {
      "cell_type": "code",
      "source": [
        "(X_train, y_train), (X_test, y_test) = cifar10.load_data()"
      ],
      "metadata": {
        "colab": {
          "base_uri": "https://localhost:8080/"
        },
        "id": "jz1TY3tgnTcm",
        "outputId": "8beea6e1-f7f0-4cac-fd5d-591770e40f2a"
      },
      "execution_count": null,
      "outputs": [
        {
          "output_type": "stream",
          "name": "stdout",
          "text": [
            "Downloading data from https://www.cs.toronto.edu/~kriz/cifar-10-python.tar.gz\n",
            "170500096/170498071 [==============================] - 4s 0us/step\n",
            "170508288/170498071 [==============================] - 4s 0us/step\n"
          ]
        }
      ]
    },
    {
      "cell_type": "code",
      "source": [
        "print(X_train[0].shape)#should be and is 32x32x3"
      ],
      "metadata": {
        "colab": {
          "base_uri": "https://localhost:8080/"
        },
        "id": "pxM4hkL4pQYE",
        "outputId": "462e17ae-9eba-4530-fc74-e065aff7d472"
      },
      "execution_count": null,
      "outputs": [
        {
          "output_type": "stream",
          "name": "stdout",
          "text": [
            "(32, 32, 3)\n"
          ]
        }
      ]
    },
    {
      "cell_type": "code",
      "source": [
        "#create a grid of 3x3 images(9 images of 3x3 subplots)\n",
        "for i in range(0,9):\n",
        "    plt.subplot(330+1+i)#denotes 3x3 and postion\n",
        "    img=X_train[i+50]#no need to transpose else transpose([1,2,0])\n",
        "    plt.imshow(img)\n",
        "\n",
        "plt.show()"
      ],
      "metadata": {
        "id": "9xra9h2ppR38"
      },
      "execution_count": null,
      "outputs": []
    },
    {
      "cell_type": "code",
      "source": [
        "print(X_train[0])"
      ],
      "metadata": {
        "id": "7dP6Bcs_pcTq"
      },
      "execution_count": null,
      "outputs": []
    },
    {
      "cell_type": "code",
      "source": [
        "seed=6\n",
        "np.random.seed(seed)\n",
        "\n",
        "#again load the dataset as we set the random seed and not apllying any shuffling effects or random effects\n",
        "(X_train, y_train), (X_test, y_test) = cifar10.load_data()\n",
        "\n",
        "# normalize the inputs from 0-255(RGB) to 0.0-1.0\n",
        "X_train=X_train.astype('float32')\n",
        "X_test=X_test.astype('float32')\n",
        "X_train=X_train/255.0\n",
        "X_test=X_test/255.0\n"
      ],
      "metadata": {
        "id": "637acSMkpeSW"
      },
      "execution_count": null,
      "outputs": []
    },
    {
      "cell_type": "code",
      "source": [
        "print(X_train[0])"
      ],
      "metadata": {
        "id": "MWfsfgDFplSK"
      },
      "execution_count": null,
      "outputs": []
    },
    {
      "cell_type": "code",
      "source": [
        "#hot encode outputs\n",
        "Y_train=np_utils.to_categorical(y_train)\n",
        "Y_test=np_utils.to_categorical(y_test)\n",
        "num_classes=Y_test.shape[1]\n",
        "\n",
        "print(Y_train.shape)\n",
        "print(Y_train[0])"
      ],
      "metadata": {
        "colab": {
          "base_uri": "https://localhost:8080/"
        },
        "id": "p4OoYXwwprqj",
        "outputId": "4bbb1a21-d15d-404a-8a0d-1a84e377eea3"
      },
      "execution_count": null,
      "outputs": [
        {
          "output_type": "stream",
          "name": "stdout",
          "text": [
            "(50000, 10)\n",
            "[0. 0. 0. 0. 0. 0. 1. 0. 0. 0.]\n"
          ]
        }
      ]
    },
    {
      "cell_type": "code",
      "source": [
        "from keras.models import Sequential\n",
        "from keras.layers import Dropout,Activation,Conv2D,GlobalAveragePooling2D\n",
        "#conv2d is the main convulational layer\n",
        "from tensorflow.keras.optimizers import SGD\n",
        "def allcnn(weights=None):\n",
        "    #taking random weights ny default else usr passed pretrained weights\n",
        "\n",
        "    model=Sequential()#we will be adding one layer after another\n",
        "\n",
        "    #not the input layer but need to tell the conv. layer to accept input\n",
        "    model.add(Conv2D(96,(3,3),padding='same',input_shape=(32,32,3)))#32x32x3 channels\n",
        "    model.add(Activation('relu'))#required for each conv. layer\n",
        "    model.add(Conv2D(96,(3,3),padding='same'))\n",
        "    model.add(Activation('relu'))\n",
        "    model.add(Conv2D(96,(3,3),padding='same',strides=(2,2)))\n",
        "    model.add(Dropout(0.5))#drop neurons randomly;helps the network generalize(prevent overfitting on training data) better so instead of having individual neurons\n",
        "    #that are controlling specific classes/features, the features are spread out over the entire network\n",
        "\n",
        "    model.add(Conv2D(192,(3,3),padding='same'))\n",
        "    model.add(Activation('relu'))\n",
        "    model.add(Conv2D(192,(3,3),padding='same'))\n",
        "    model.add(Activation('relu'))\n",
        "    model.add(Conv2D(192,(3,3),padding='same',strides=(2,2)))\n",
        "    model.add(Dropout(0.5))\n",
        "\n",
        "    model.add(Conv2D(192,(3,3),padding='same'))\n",
        "    model.add(Activation('relu'))\n",
        "    model.add(Conv2D(192,(1,1),padding='valid'))\n",
        "    model.add(Activation('relu'))\n",
        "    model.add(Conv2D(10,(1,1),padding='valid'))\n",
        "\n",
        "    # add GlobalAveragePooling2D layer with Softmax activation\n",
        "    model.add(GlobalAveragePooling2D())\n",
        "    model.add(Activation('softmax'))\n",
        "\n",
        "    #load the weights,if passed\n",
        "    if weights:\n",
        "        model.load_weights(weights)\n",
        "\n",
        "    #return model\n",
        "    return model"
      ],
      "metadata": {
        "id": "Lch_ttmJptU9"
      },
      "execution_count": null,
      "outputs": []
    },
    {
      "cell_type": "code",
      "source": [
        "# define hyper parameters\n",
        "learning_rate = 0.01\n",
        "weight_decay = 1e-6\n",
        "momentum = 0.9\n",
        "#no need for training parameters\n",
        "\n",
        "# define weights and build model\n",
        "weights='all_cnn_weights_0.9088_0.4994.hdf5'#KERAS format hdf5\n",
        "#pretrained weights  that have already gone through the above press\n",
        "model=allcnn(weights)\n",
        "\n",
        "# define optimizer and compile model\n",
        "sgd = SGD(lr=learning_rate, decay=weight_decay, momentum=momentum, nesterov=True)\n",
        "model.compile(loss='categorical_crossentropy', optimizer=sgd, metrics=['accuracy'])\n",
        "#measure of model's perfrmane is accuracy\n",
        "\n",
        "# print model summary\n",
        "print (model.summary())\n",
        "\n",
        "# test the model with pretrained weights\n",
        "scores=model.evaluate(X_test,Y_test,verbose=1)\n",
        "print(\"Accuracy: %.2f%%\" % (scores[1]*100))"
      ],
      "metadata": {
        "colab": {
          "base_uri": "https://localhost:8080/"
        },
        "id": "Bjp8qBeTp_JO",
        "outputId": "3d604a18-4c1e-4f85-ccb3-ae80b1c4d769"
      },
      "execution_count": null,
      "outputs": [
        {
          "output_type": "stream",
          "name": "stdout",
          "text": [
            "Model: \"sequential\"\n",
            "_________________________________________________________________\n",
            " Layer (type)                Output Shape              Param #   \n",
            "=================================================================\n",
            " conv2d (Conv2D)             (None, 32, 32, 96)        2688      \n",
            "                                                                 \n",
            " activation (Activation)     (None, 32, 32, 96)        0         \n",
            "                                                                 \n",
            " conv2d_1 (Conv2D)           (None, 32, 32, 96)        83040     \n",
            "                                                                 \n",
            " activation_1 (Activation)   (None, 32, 32, 96)        0         \n",
            "                                                                 \n",
            " conv2d_2 (Conv2D)           (None, 16, 16, 96)        83040     \n",
            "                                                                 \n",
            " dropout (Dropout)           (None, 16, 16, 96)        0         \n",
            "                                                                 \n",
            " conv2d_3 (Conv2D)           (None, 16, 16, 192)       166080    \n",
            "                                                                 \n",
            " activation_2 (Activation)   (None, 16, 16, 192)       0         \n",
            "                                                                 \n",
            " conv2d_4 (Conv2D)           (None, 16, 16, 192)       331968    \n",
            "                                                                 \n",
            " activation_3 (Activation)   (None, 16, 16, 192)       0         \n",
            "                                                                 \n",
            " conv2d_5 (Conv2D)           (None, 8, 8, 192)         331968    \n",
            "                                                                 \n",
            " dropout_1 (Dropout)         (None, 8, 8, 192)         0         \n",
            "                                                                 \n",
            " conv2d_6 (Conv2D)           (None, 8, 8, 192)         331968    \n",
            "                                                                 \n",
            " activation_4 (Activation)   (None, 8, 8, 192)         0         \n",
            "                                                                 \n",
            " conv2d_7 (Conv2D)           (None, 8, 8, 192)         37056     \n",
            "                                                                 \n",
            " activation_5 (Activation)   (None, 8, 8, 192)         0         \n",
            "                                                                 \n",
            " conv2d_8 (Conv2D)           (None, 8, 8, 10)          1930      \n",
            "                                                                 \n",
            " global_average_pooling2d (G  (None, 10)               0         \n",
            " lobalAveragePooling2D)                                          \n",
            "                                                                 \n",
            " activation_6 (Activation)   (None, 10)                0         \n",
            "                                                                 \n",
            "=================================================================\n",
            "Total params: 1,369,738\n",
            "Trainable params: 1,369,738\n",
            "Non-trainable params: 0\n",
            "_________________________________________________________________\n"
          ]
        },
        {
          "output_type": "stream",
          "name": "stderr",
          "text": [
            "/usr/local/lib/python3.7/dist-packages/keras/optimizer_v2/gradient_descent.py:102: UserWarning: The `lr` argument is deprecated, use `learning_rate` instead.\n",
            "  super(SGD, self).__init__(name, **kwargs)\n"
          ]
        },
        {
          "output_type": "stream",
          "name": "stdout",
          "text": [
            "None\n",
            "313/313 [==============================] - 12s 7ms/step - loss: 0.5152 - accuracy: 0.9088\n",
            "Accuracy: 90.88%\n"
          ]
        }
      ]
    },
    {
      "cell_type": "markdown",
      "source": [
        "# Predicting the output"
      ],
      "metadata": {
        "id": "UQPenUBYsjtp"
      }
    },
    {
      "cell_type": "code",
      "source": [
        "classes=range(0,10)#10 not included\n",
        "\n",
        "names = ['airplane','automobile','bird','cat','deer','dog','frog','horse','ship','truck']\n",
        "\n",
        "# zip the names and classes to make a dictionary of class_labels\n",
        "class_labels=dict(zip(classes,names))\n",
        "print(class_labels)\n",
        "# generate batch of 9 images to predict\n",
        "batch=X_test[200:209]\n",
        "labels=np.argmax(Y_test[200:209],axis=-1)\n",
        "\n",
        "#make predictions\n",
        "predictions=model.predict(batch,verbose=1)"
      ],
      "metadata": {
        "colab": {
          "base_uri": "https://localhost:8080/"
        },
        "id": "0AutlVyrqFwW",
        "outputId": "fe9ed9bd-96cf-4c5b-c694-8fdb19ea16b8"
      },
      "execution_count": null,
      "outputs": [
        {
          "output_type": "stream",
          "name": "stdout",
          "text": [
            "{0: 'airplane', 1: 'automobile', 2: 'bird', 3: 'cat', 4: 'deer', 5: 'dog', 6: 'frog', 7: 'horse', 8: 'ship', 9: 'truck'}\n",
            "1/1 [==============================] - 0s 22ms/step\n"
          ]
        }
      ]
    },
    {
      "cell_type": "code",
      "source": [
        "print(predictions)\n",
        "print(predictions.shape)"
      ],
      "metadata": {
        "colab": {
          "base_uri": "https://localhost:8080/"
        },
        "id": "h8JCkE5hqIL-",
        "outputId": "9f814293-f9e8-41cd-ebc3-fe36633c9635"
      },
      "execution_count": null,
      "outputs": [
        {
          "output_type": "stream",
          "name": "stdout",
          "text": [
            "[[1.21153304e-15 1.06742126e-16 1.42194789e-11 3.57047043e-07\n",
            "  8.18853735e-11 9.99999642e-01 4.77345756e-13 1.19800947e-12\n",
            "  2.26931085e-16 2.06221040e-13]\n",
            " [6.42615078e-07 9.99756873e-01 8.07883274e-12 2.06028094e-11\n",
            "  1.13836772e-12 2.38496072e-13 9.10385916e-13 1.57554681e-11\n",
            "  1.69888281e-08 2.42482245e-04]\n",
            " [3.62077918e-16 1.69335936e-15 1.61794438e-28 7.13783765e-27\n",
            "  2.73488739e-26 1.14787774e-26 1.14460645e-27 7.17664883e-23\n",
            "  1.00000000e+00 5.21244018e-20]\n",
            " [7.17007129e-13 1.59407246e-16 3.21780617e-16 6.96209548e-11\n",
            "  9.31447453e-09 8.77943648e-07 1.15529483e-14 9.99999166e-01\n",
            "  4.72989112e-20 2.03012622e-16]\n",
            " [2.63875219e-23 1.00000000e+00 3.53264490e-30 1.98868532e-29\n",
            "  3.49747554e-29 4.32104682e-29 1.46093530e-17 1.09631058e-28\n",
            "  2.98740560e-24 3.76287915e-14]\n",
            " [1.37087536e-21 3.62404120e-23 1.64337976e-20 1.00000000e+00\n",
            "  1.23839605e-16 2.60282160e-08 6.20974722e-19 1.80729493e-15\n",
            "  4.34706417e-24 2.06645408e-22]\n",
            " [9.89781022e-01 6.42519371e-12 5.44721445e-07 1.55294549e-06\n",
            "  4.64576750e-08 5.92949675e-07 5.29956257e-09 1.50588830e-12\n",
            "  1.02163153e-02 5.21113621e-12]\n",
            " [4.67592881e-21 5.21547726e-22 1.07234371e-16 2.90021998e-08\n",
            "  1.57255478e-15 1.00000000e+00 1.36668534e-17 3.40103104e-16\n",
            "  8.45604768e-19 3.14417187e-21]\n",
            " [0.00000000e+00 0.00000000e+00 0.00000000e+00 0.00000000e+00\n",
            "  1.29688379e-37 2.57736347e-28 0.00000000e+00 1.00000000e+00\n",
            "  0.00000000e+00 0.00000000e+00]]\n",
            "(9, 10)\n"
          ]
        }
      ]
    },
    {
      "cell_type": "code",
      "source": [
        "#these are individual class probabilities, should sum to 1.0\n",
        "for image in predictions:\n",
        "    print(np.sum(image))\n",
        "\n",
        "#shows that there is hundred percent probability that images to belong to one of the classes"
      ],
      "metadata": {
        "colab": {
          "base_uri": "https://localhost:8080/"
        },
        "id": "2A4nM-V-qKUM",
        "outputId": "8803d46e-51b7-4fbc-a298-a6fc6b7eaf2b"
      },
      "execution_count": null,
      "outputs": [
        {
          "output_type": "stream",
          "name": "stdout",
          "text": [
            "1.0\n",
            "1.0\n",
            "1.0\n",
            "1.0\n",
            "1.0\n",
            "1.0\n",
            "1.0000001\n",
            "1.0\n",
            "1.0\n"
          ]
        }
      ]
    },
    {
      "cell_type": "code",
      "source": [
        "# use np.argmax() to convert class probabilities to class labels\n",
        "class_result=np.argmax(predictions,axis=-1)\n",
        "print(class_result)"
      ],
      "metadata": {
        "colab": {
          "base_uri": "https://localhost:8080/"
        },
        "id": "Hi9PtzgzqMPR",
        "outputId": "003c2f84-fcfa-42e4-f1cf-614fe3347e46"
      },
      "execution_count": null,
      "outputs": [
        {
          "output_type": "stream",
          "name": "stdout",
          "text": [
            "[5 1 8 7 1 3 0 5 7]\n"
          ]
        }
      ]
    },
    {
      "cell_type": "code",
      "source": [
        "#create a grid of 3x3 images\n",
        "fig,axs=plt.subplots(3,3,figsize=(15,6))\n",
        "fig.subplots_adjust(hspace=1)\n",
        "axs=axs.flatten()\n",
        "\n",
        "for i,img in enumerate (batch):\n",
        "        # determine label for each prediction, set title\n",
        "        for key,value in class_labels.items():\n",
        "            if class_result[i]==key:\n",
        "                title = 'Prediction: {}\\nActual: {}'.format(class_labels[key], class_labels[labels[i]])\n",
        "                axs[i].set_title(title)\n",
        "                axs[i].axes.get_xaxis().set_visible(False)\n",
        "                axs[i].axes.get_yaxis().set_visible(False)\n",
        "\n",
        "        # plot the image\n",
        "        axs[i].imshow(img)\n",
        "\n",
        "# show the plot\n",
        "plt.show()"
      ],
      "metadata": {
        "colab": {
          "base_uri": "https://localhost:8080/",
          "height": 392
        },
        "id": "WwGE4HKtqOFf",
        "outputId": "d9f7313b-27f9-458d-9748-22214bdd8d59"
      },
      "execution_count": null,
      "outputs": [
        {
          "output_type": "display_data",
          "data": {
            "text/plain": [
              "<Figure size 1080x432 with 9 Axes>"
            ],
            "image/png": "[encoded data removed]"
          },
          "metadata": {
            "needs_background": "light"
          }
        }
      ]
    },
    {
      "cell_type": "code",
      "source": [],
      "metadata": {
        "id": "JlimxYKnrG0R"
      },
      "execution_count": null,
      "outputs": []
    }
  ]
}